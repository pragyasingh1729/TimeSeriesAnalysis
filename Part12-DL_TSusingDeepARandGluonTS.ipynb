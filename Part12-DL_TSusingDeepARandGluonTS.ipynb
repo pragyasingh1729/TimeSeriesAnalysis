{
 "cells": [
  {
   "cell_type": "markdown",
   "id": "ccb096aa-1b04-4d35-ac1e-52ad2195098a",
   "metadata": {},
   "source": [
    "\n",
    "### Deep AR:\n",
    "\"Deep AR\" stands for Deep Autoregressive model. It's a framework developed by Amazon Web Services (AWS) for time series forecasting using deep learning techniques, specifically recurrent neural networks (RNNs) and long short-term memory networks (LSTMs). \n",
    "\n",
    "Here's a breakdown of its key components:\n",
    "\n",
    "1. **Autoregressive Model**: Deep AR utilizes an autoregressive model, meaning it predicts future values based on past observations. It takes into account the sequential nature of time series data, where each data point is dependent on previous data points.\n",
    "\n",
    "2. **Deep Learning Techniques**: It employs deep learning techniques like RNNs and LSTMs to capture complex patterns and dependencies within the time series data. These neural network architectures are well-suited for sequential data processing.\n",
    "\n",
    "3. **Probabilistic Forecasting**: Deep AR provides probabilistic forecasts, meaning it doesn't just predict a single future value but rather provides a distribution of possible outcomes. This is crucial for understanding the uncertainty associated with the predictions.\n",
    "\n",
    "4. **Customization**: Deep AR allows for customization of the model architecture and training process to suit the specific characteristics of the time series data being analyzed.\n",
    "\n",
    "### GluonTS:\n",
    "GluonTS, on the other hand, is an open-source toolkit for building and evaluating time series models. It's developed by AWS in collaboration with Microsoft. GluonTS is designed to provide a flexible and easy-to-use interface for experimenting with different time series models.\n",
    "\n",
    "Key features of GluonTS include:\n",
    "\n",
    "1. **Modularity**: GluonTS provides a modular design, allowing users to easily combine different components to create custom time series models. This includes various components such as probabilistic layers, model architectures, and loss functions.\n",
    "\n",
    "2. **Scalability**: GluonTS is designed to scale efficiently to large datasets and distributed computing environments. This makes it suitable for handling real-world time series datasets with millions of data points.\n",
    "\n",
    "3. **Flexibility**: GluonTS supports a wide range of time series forecasting tasks, including point forecasting, probabilistic forecasting, and anomaly detection. It also supports both univariate and multivariate time series data.\n",
    "\n",
    "4. **Integration with MXNet**: GluonTS is built on top of MXNet, an open-source deep learning framework. This allows users to leverage the scalability and performance benefits of MXNet while working with time series data.\n",
    "\n",
    "In summary, both Deep AR and GluonTS provide powerful tools for time series forecasting and prediction, with Deep AR focusing on deep learning-based forecasting models and GluonTS offering a flexible toolkit for building and evaluating time series models."
   ]
  },
  {
   "cell_type": "code",
   "execution_count": 1,
   "id": "fc02e5cc-17b6-4c23-bb51-e35a2ce75e90",
   "metadata": {},
   "outputs": [],
   "source": [
    "import os\n",
    "os.environ[\"KMP_DUPLICATE_LIB_OK\"]=\"TRUE\""
   ]
  },
  {
   "cell_type": "code",
   "execution_count": 2,
   "id": "1edc9430-e20a-43a7-8493-f7acc5500e4d",
   "metadata": {},
   "outputs": [],
   "source": [
    "import pandas as pd\n",
    "import numpy as np\n",
    "import matplotlib as mpl \n",
    "import matplotlib.pyplot as plt\n",
    "import torch\n"
   ]
  },
  {
   "cell_type": "code",
   "execution_count": 4,
   "id": "47228b4f-63bd-4a9c-8e2b-380124b910a4",
   "metadata": {},
   "outputs": [
    {
     "name": "stdout",
     "output_type": "stream",
     "text": [
      "Collecting lightning\n",
      "  Downloading lightning-2.2.2-py3-none-any.whl.metadata (53 kB)\n",
      "\u001b[2K     \u001b[90m━━━━━━━━━━━━━━━━━━━━━━━━━━━━━━━━━━━━━━━━\u001b[0m \u001b[32m53.4/53.4 kB\u001b[0m \u001b[31m1.6 MB/s\u001b[0m eta \u001b[36m0:00:00\u001b[0m\n",
      "\u001b[?25hRequirement already satisfied: PyYAML<8.0,>=5.4 in /Users/pragya/miniconda3/envs/hands_on_ml/lib/python3.11/site-packages (from lightning) (6.0.1)\n",
      "Requirement already satisfied: fsspec<2025.0,>=2022.5.0 in /Users/pragya/miniconda3/envs/hands_on_ml/lib/python3.11/site-packages (from fsspec[http]<2025.0,>=2022.5.0->lightning) (2024.3.0)\n",
      "Collecting lightning-utilities<2.0,>=0.8.0 (from lightning)\n",
      "  Downloading lightning_utilities-0.11.2-py3-none-any.whl.metadata (4.7 kB)\n",
      "Requirement already satisfied: numpy<3.0,>=1.17.2 in /Users/pragya/miniconda3/envs/hands_on_ml/lib/python3.11/site-packages (from lightning) (1.26.0)\n",
      "Requirement already satisfied: packaging<25.0,>=20.0 in /Users/pragya/miniconda3/envs/hands_on_ml/lib/python3.11/site-packages (from lightning) (23.1)\n",
      "Requirement already satisfied: torch<4.0,>=1.13.0 in /Users/pragya/miniconda3/envs/hands_on_ml/lib/python3.11/site-packages (from lightning) (2.2.2)\n",
      "Collecting torchmetrics<3.0,>=0.7.0 (from lightning)\n",
      "  Downloading torchmetrics-1.3.2-py3-none-any.whl.metadata (19 kB)\n",
      "Requirement already satisfied: tqdm<6.0,>=4.57.0 in /Users/pragya/miniconda3/envs/hands_on_ml/lib/python3.11/site-packages (from lightning) (4.66.2)\n",
      "Requirement already satisfied: typing-extensions<6.0,>=4.4.0 in /Users/pragya/miniconda3/envs/hands_on_ml/lib/python3.11/site-packages (from lightning) (4.10.0)\n",
      "Collecting pytorch-lightning (from lightning)\n",
      "  Downloading pytorch_lightning-2.2.2-py3-none-any.whl.metadata (21 kB)\n",
      "Collecting aiohttp!=4.0.0a0,!=4.0.0a1 (from fsspec[http]<2025.0,>=2022.5.0->lightning)\n",
      "  Using cached aiohttp-3.9.4-cp311-cp311-macosx_11_0_arm64.whl.metadata (7.5 kB)\n",
      "Requirement already satisfied: setuptools in /Users/pragya/miniconda3/envs/hands_on_ml/lib/python3.11/site-packages (from lightning-utilities<2.0,>=0.8.0->lightning) (68.2.2)\n",
      "Requirement already satisfied: filelock in /Users/pragya/miniconda3/envs/hands_on_ml/lib/python3.11/site-packages (from torch<4.0,>=1.13.0->lightning) (3.13.4)\n",
      "Requirement already satisfied: sympy in /Users/pragya/miniconda3/envs/hands_on_ml/lib/python3.11/site-packages (from torch<4.0,>=1.13.0->lightning) (1.12.1rc1)\n",
      "Requirement already satisfied: networkx in /Users/pragya/miniconda3/envs/hands_on_ml/lib/python3.11/site-packages (from torch<4.0,>=1.13.0->lightning) (3.2.1)\n",
      "Requirement already satisfied: jinja2 in /Users/pragya/miniconda3/envs/hands_on_ml/lib/python3.11/site-packages (from torch<4.0,>=1.13.0->lightning) (3.1.3)\n",
      "Collecting aiosignal>=1.1.2 (from aiohttp!=4.0.0a0,!=4.0.0a1->fsspec[http]<2025.0,>=2022.5.0->lightning)\n",
      "  Downloading aiosignal-1.3.1-py3-none-any.whl.metadata (4.0 kB)\n",
      "Requirement already satisfied: attrs>=17.3.0 in /Users/pragya/miniconda3/envs/hands_on_ml/lib/python3.11/site-packages (from aiohttp!=4.0.0a0,!=4.0.0a1->fsspec[http]<2025.0,>=2022.5.0->lightning) (23.1.0)\n",
      "Collecting frozenlist>=1.1.1 (from aiohttp!=4.0.0a0,!=4.0.0a1->fsspec[http]<2025.0,>=2022.5.0->lightning)\n",
      "  Downloading frozenlist-1.4.1-cp311-cp311-macosx_11_0_arm64.whl.metadata (12 kB)\n",
      "Collecting multidict<7.0,>=4.5 (from aiohttp!=4.0.0a0,!=4.0.0a1->fsspec[http]<2025.0,>=2022.5.0->lightning)\n",
      "  Downloading multidict-6.0.5-cp311-cp311-macosx_11_0_arm64.whl.metadata (4.2 kB)\n",
      "Collecting yarl<2.0,>=1.0 (from aiohttp!=4.0.0a0,!=4.0.0a1->fsspec[http]<2025.0,>=2022.5.0->lightning)\n",
      "  Downloading yarl-1.9.4-cp311-cp311-macosx_11_0_arm64.whl.metadata (31 kB)\n",
      "Requirement already satisfied: MarkupSafe>=2.0 in /Users/pragya/miniconda3/envs/hands_on_ml/lib/python3.11/site-packages (from jinja2->torch<4.0,>=1.13.0->lightning) (2.1.3)\n",
      "Requirement already satisfied: mpmath<1.4.0,>=1.1.0 in /Users/pragya/miniconda3/envs/hands_on_ml/lib/python3.11/site-packages (from sympy->torch<4.0,>=1.13.0->lightning) (1.3.0)\n",
      "Requirement already satisfied: idna>=2.0 in /Users/pragya/miniconda3/envs/hands_on_ml/lib/python3.11/site-packages (from yarl<2.0,>=1.0->aiohttp!=4.0.0a0,!=4.0.0a1->fsspec[http]<2025.0,>=2022.5.0->lightning) (3.4)\n",
      "Downloading lightning-2.2.2-py3-none-any.whl (2.0 MB)\n",
      "\u001b[2K   \u001b[90m━━━━━━━━━━━━━━━━━━━━━━━━━━━━━━━━━━━━━━━━\u001b[0m \u001b[32m2.0/2.0 MB\u001b[0m \u001b[31m5.6 MB/s\u001b[0m eta \u001b[36m0:00:00\u001b[0ma \u001b[36m0:00:01\u001b[0m\n",
      "\u001b[?25hDownloading lightning_utilities-0.11.2-py3-none-any.whl (26 kB)\n",
      "Downloading torchmetrics-1.3.2-py3-none-any.whl (841 kB)\n",
      "\u001b[2K   \u001b[90m━━━━━━━━━━━━━━━━━━━━━━━━━━━━━━━━━━━━━━━━\u001b[0m \u001b[32m841.5/841.5 kB\u001b[0m \u001b[31m5.9 MB/s\u001b[0m eta \u001b[36m0:00:00\u001b[0ma \u001b[36m0:00:01\u001b[0m\n",
      "\u001b[?25hDownloading pytorch_lightning-2.2.2-py3-none-any.whl (801 kB)\n",
      "\u001b[2K   \u001b[90m━━━━━━━━━━━━━━━━━━━━━━━━━━━━━━━━━━━━━━━━\u001b[0m \u001b[32m801.9/801.9 kB\u001b[0m \u001b[31m5.9 MB/s\u001b[0m eta \u001b[36m0:00:00\u001b[0ma \u001b[36m0:00:01\u001b[0m\n",
      "\u001b[?25hDownloading aiohttp-3.9.4-cp311-cp311-macosx_11_0_arm64.whl (390 kB)\n",
      "\u001b[2K   \u001b[90m━━━━━━━━━━━━━━━━━━━━━━━━━━━━━━━━━━━━━━━━\u001b[0m \u001b[32m390.1/390.1 kB\u001b[0m \u001b[31m5.5 MB/s\u001b[0m eta \u001b[36m0:00:00\u001b[0ma \u001b[36m0:00:01\u001b[0m\n",
      "\u001b[?25hDownloading aiosignal-1.3.1-py3-none-any.whl (7.6 kB)\n",
      "Downloading frozenlist-1.4.1-cp311-cp311-macosx_11_0_arm64.whl (53 kB)\n",
      "\u001b[2K   \u001b[90m━━━━━━━━━━━━━━━━━━━━━━━━━━━━━━━━━━━━━━━━\u001b[0m \u001b[32m53.4/53.4 kB\u001b[0m \u001b[31m3.7 MB/s\u001b[0m eta \u001b[36m0:00:00\u001b[0m\n",
      "\u001b[?25hDownloading multidict-6.0.5-cp311-cp311-macosx_11_0_arm64.whl (30 kB)\n",
      "Downloading yarl-1.9.4-cp311-cp311-macosx_11_0_arm64.whl (81 kB)\n",
      "\u001b[2K   \u001b[90m━━━━━━━━━━━━━━━━━━━━━━━━━━━━━━━━━━━━━━━━\u001b[0m \u001b[32m81.2/81.2 kB\u001b[0m \u001b[31m4.4 MB/s\u001b[0m eta \u001b[36m0:00:00\u001b[0m\n",
      "\u001b[?25hInstalling collected packages: multidict, lightning-utilities, frozenlist, yarl, aiosignal, torchmetrics, aiohttp, pytorch-lightning, lightning\n",
      "Successfully installed aiohttp-3.9.4 aiosignal-1.3.1 frozenlist-1.4.1 lightning-2.2.2 lightning-utilities-0.11.2 multidict-6.0.5 pytorch-lightning-2.2.2 torchmetrics-1.3.2 yarl-1.9.4\n"
     ]
    }
   ],
   "source": [
    "!pip install lightning"
   ]
  },
  {
   "cell_type": "code",
   "execution_count": 7,
   "id": "496bb111-81ba-49f1-a581-9c158c3da09d",
   "metadata": {},
   "outputs": [
    {
     "ename": "ImportError",
     "evalue": "cannot import name 'DeepAREstimator' from partially initialized module 'gluonts.torch.model.deepar' (most likely due to a circular import) (/Users/pragya/miniconda3/envs/hands_on_ml/lib/python3.11/site-packages/gluonts/torch/model/deepar/__init__.py)",
     "output_type": "error",
     "traceback": [
      "\u001b[0;31m---------------------------------------------------------------------------\u001b[0m",
      "\u001b[0;31mImportError\u001b[0m                               Traceback (most recent call last)",
      "Cell \u001b[0;32mIn[7], line 1\u001b[0m\n\u001b[0;32m----> 1\u001b[0m \u001b[38;5;28;01mfrom\u001b[39;00m \u001b[38;5;21;01mgluonts\u001b[39;00m\u001b[38;5;21;01m.\u001b[39;00m\u001b[38;5;21;01mtorch\u001b[39;00m\u001b[38;5;21;01m.\u001b[39;00m\u001b[38;5;21;01mmodel\u001b[39;00m\u001b[38;5;21;01m.\u001b[39;00m\u001b[38;5;21;01mdeepar\u001b[39;00m \u001b[38;5;28;01mimport\u001b[39;00m DeepAREstimator\n\u001b[1;32m      2\u001b[0m \u001b[38;5;28;01mfrom\u001b[39;00m \u001b[38;5;21;01mgluonts\u001b[39;00m\u001b[38;5;21;01m.\u001b[39;00m\u001b[38;5;21;01mtorch\u001b[39;00m\u001b[38;5;21;01m.\u001b[39;00m\u001b[38;5;21;01mtrainer\u001b[39;00m \u001b[38;5;28;01mimport\u001b[39;00m Trainer\n",
      "File \u001b[0;32m~/miniconda3/envs/hands_on_ml/lib/python3.11/site-packages/gluonts/torch/model/deepar/__init__.py:14\u001b[0m\n\u001b[1;32m      1\u001b[0m \u001b[38;5;66;03m# Copyright 2018 Amazon.com, Inc. or its affiliates. All Rights Reserved.\u001b[39;00m\n\u001b[1;32m      2\u001b[0m \u001b[38;5;66;03m#\u001b[39;00m\n\u001b[1;32m      3\u001b[0m \u001b[38;5;66;03m# Licensed under the Apache License, Version 2.0 (the \"License\").\u001b[39;00m\n\u001b[0;32m   (...)\u001b[0m\n\u001b[1;32m     11\u001b[0m \u001b[38;5;66;03m# express or implied. See the License for the specific language governing\u001b[39;00m\n\u001b[1;32m     12\u001b[0m \u001b[38;5;66;03m# permissions and limitations under the License.\u001b[39;00m\n\u001b[0;32m---> 14\u001b[0m \u001b[38;5;28;01mfrom\u001b[39;00m \u001b[38;5;21;01m.\u001b[39;00m\u001b[38;5;21;01mmodule\u001b[39;00m \u001b[38;5;28;01mimport\u001b[39;00m DeepARModel\n\u001b[1;32m     15\u001b[0m \u001b[38;5;28;01mfrom\u001b[39;00m \u001b[38;5;21;01m.\u001b[39;00m\u001b[38;5;21;01mlightning_module\u001b[39;00m \u001b[38;5;28;01mimport\u001b[39;00m DeepARLightningModule\n\u001b[1;32m     16\u001b[0m \u001b[38;5;28;01mfrom\u001b[39;00m \u001b[38;5;21;01m.\u001b[39;00m\u001b[38;5;21;01mestimator\u001b[39;00m \u001b[38;5;28;01mimport\u001b[39;00m DeepAREstimator\n",
      "File \u001b[0;32m~/miniconda3/envs/hands_on_ml/lib/python3.11/site-packages/gluonts/torch/model/deepar/module.py:25\u001b[0m\n\u001b[1;32m     20\u001b[0m \u001b[38;5;28;01mfrom\u001b[39;00m \u001b[38;5;21;01mgluonts\u001b[39;00m\u001b[38;5;21;01m.\u001b[39;00m\u001b[38;5;21;01mtime_feature\u001b[39;00m \u001b[38;5;28;01mimport\u001b[39;00m get_lags_for_frequency\n\u001b[1;32m     21\u001b[0m \u001b[38;5;28;01mfrom\u001b[39;00m \u001b[38;5;21;01mgluonts\u001b[39;00m\u001b[38;5;21;01m.\u001b[39;00m\u001b[38;5;21;01mtorch\u001b[39;00m\u001b[38;5;21;01m.\u001b[39;00m\u001b[38;5;21;01mdistributions\u001b[39;00m \u001b[38;5;28;01mimport\u001b[39;00m (\n\u001b[1;32m     22\u001b[0m     DistributionOutput,\n\u001b[1;32m     23\u001b[0m     StudentTOutput,\n\u001b[1;32m     24\u001b[0m )\n\u001b[0;32m---> 25\u001b[0m \u001b[38;5;28;01mfrom\u001b[39;00m \u001b[38;5;21;01mgluonts\u001b[39;00m\u001b[38;5;21;01m.\u001b[39;00m\u001b[38;5;21;01mtorch\u001b[39;00m\u001b[38;5;21;01m.\u001b[39;00m\u001b[38;5;21;01mscaler\u001b[39;00m \u001b[38;5;28;01mimport\u001b[39;00m Scaler, MeanScaler, NOPScaler\n\u001b[1;32m     26\u001b[0m \u001b[38;5;28;01mfrom\u001b[39;00m \u001b[38;5;21;01mgluonts\u001b[39;00m\u001b[38;5;21;01m.\u001b[39;00m\u001b[38;5;21;01mtorch\u001b[39;00m\u001b[38;5;21;01m.\u001b[39;00m\u001b[38;5;21;01mmodules\u001b[39;00m\u001b[38;5;21;01m.\u001b[39;00m\u001b[38;5;21;01mfeature\u001b[39;00m \u001b[38;5;28;01mimport\u001b[39;00m FeatureEmbedder\n\u001b[1;32m     27\u001b[0m \u001b[38;5;28;01mfrom\u001b[39;00m \u001b[38;5;21;01mgluonts\u001b[39;00m\u001b[38;5;21;01m.\u001b[39;00m\u001b[38;5;21;01mtorch\u001b[39;00m\u001b[38;5;21;01m.\u001b[39;00m\u001b[38;5;21;01mmodules\u001b[39;00m\u001b[38;5;21;01m.\u001b[39;00m\u001b[38;5;21;01mloss\u001b[39;00m \u001b[38;5;28;01mimport\u001b[39;00m DistributionLoss, NegativeLogLikelihood\n",
      "File \u001b[0;32m~/miniconda3/envs/hands_on_ml/lib/python3.11/site-packages/gluonts/torch/__init__.py:30\u001b[0m\n\u001b[1;32m     28\u001b[0m \u001b[38;5;28;01mfrom\u001b[39;00m \u001b[38;5;21;01m.\u001b[39;00m\u001b[38;5;21;01mmodel\u001b[39;00m\u001b[38;5;21;01m.\u001b[39;00m\u001b[38;5;21;01mpredictor\u001b[39;00m \u001b[38;5;28;01mimport\u001b[39;00m PyTorchPredictor\n\u001b[1;32m     29\u001b[0m \u001b[38;5;28;01mfrom\u001b[39;00m \u001b[38;5;21;01m.\u001b[39;00m\u001b[38;5;21;01mmodel\u001b[39;00m\u001b[38;5;21;01m.\u001b[39;00m\u001b[38;5;21;01mdeep_npts\u001b[39;00m \u001b[38;5;28;01mimport\u001b[39;00m DeepNPTSEstimator\n\u001b[0;32m---> 30\u001b[0m \u001b[38;5;28;01mfrom\u001b[39;00m \u001b[38;5;21;01m.\u001b[39;00m\u001b[38;5;21;01mmodel\u001b[39;00m\u001b[38;5;21;01m.\u001b[39;00m\u001b[38;5;21;01mdeepar\u001b[39;00m \u001b[38;5;28;01mimport\u001b[39;00m DeepAREstimator\n\u001b[1;32m     31\u001b[0m \u001b[38;5;28;01mfrom\u001b[39;00m \u001b[38;5;21;01m.\u001b[39;00m\u001b[38;5;21;01mmodel\u001b[39;00m\u001b[38;5;21;01m.\u001b[39;00m\u001b[38;5;21;01msimple_feedforward\u001b[39;00m \u001b[38;5;28;01mimport\u001b[39;00m SimpleFeedForwardEstimator\n\u001b[1;32m     32\u001b[0m \u001b[38;5;28;01mfrom\u001b[39;00m \u001b[38;5;21;01m.\u001b[39;00m\u001b[38;5;21;01mmodel\u001b[39;00m\u001b[38;5;21;01m.\u001b[39;00m\u001b[38;5;21;01mtft\u001b[39;00m \u001b[38;5;28;01mimport\u001b[39;00m TemporalFusionTransformerEstimator\n",
      "\u001b[0;31mImportError\u001b[0m: cannot import name 'DeepAREstimator' from partially initialized module 'gluonts.torch.model.deepar' (most likely due to a circular import) (/Users/pragya/miniconda3/envs/hands_on_ml/lib/python3.11/site-packages/gluonts/torch/model/deepar/__init__.py)"
     ]
    }
   ],
   "source": [
    "from gluonts.torch.model.deepar import DeepAREstimator\n",
    "from gluonts.torch.trainer import Trainer\n"
   ]
  },
  {
   "cell_type": "code",
   "execution_count": null,
   "id": "1a8704e4-1b59-4f6e-a34f-ee660be6d5e9",
   "metadata": {},
   "outputs": [],
   "source": []
  }
 ],
 "metadata": {
  "kernelspec": {
   "display_name": "Python 3 (ipykernel)",
   "language": "python",
   "name": "python3"
  },
  "language_info": {
   "codemirror_mode": {
    "name": "ipython",
    "version": 3
   },
   "file_extension": ".py",
   "mimetype": "text/x-python",
   "name": "python",
   "nbconvert_exporter": "python",
   "pygments_lexer": "ipython3",
   "version": "3.11.5"
  }
 },
 "nbformat": 4,
 "nbformat_minor": 5
}
